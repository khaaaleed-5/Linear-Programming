{
 "cells": [
  {
   "cell_type": "code",
   "execution_count": 29,
   "id": "755cb4bd",
   "metadata": {},
   "outputs": [],
   "source": [
    "import pulp as p"
   ]
  },
  {
   "cell_type": "markdown",
   "id": "e2e1058d",
   "metadata": {},
   "source": [
    "# Define problem"
   ]
  },
  {
   "cell_type": "code",
   "execution_count": 30,
   "id": "fc91a80e",
   "metadata": {},
   "outputs": [],
   "source": [
    "Lpp=p.LpProblem(\"Model\",p.LpMaximize)"
   ]
  },
  {
   "cell_type": "code",
   "execution_count": 31,
   "id": "72e81bfa",
   "metadata": {},
   "outputs": [],
   "source": [
    "X1 = p.LpVariable(\"X1\",lowBound = 0,cat = p.LpContinuous)\n",
    "X2 = p.LpVariable(\"X2\",lowBound = 0,cat = p.LpContinuous)\n",
    "X3 = p.LpVariable(\"X3\",lowBound = 0,cat = p.LpContinuous)"
   ]
  },
  {
   "cell_type": "markdown",
   "id": "0d8c6caf",
   "metadata": {},
   "source": [
    "# Objective Function"
   ]
  },
  {
   "cell_type": "code",
   "execution_count": 32,
   "id": "7841fc55",
   "metadata": {},
   "outputs": [],
   "source": [
    "Lpp += 1600*X1 + 1300*X2 + 600*X3"
   ]
  },
  {
   "cell_type": "markdown",
   "id": "ff5f026c",
   "metadata": {},
   "source": [
    "# Constraints"
   ]
  },
  {
   "cell_type": "code",
   "execution_count": 33,
   "id": "038f6a83",
   "metadata": {},
   "outputs": [],
   "source": [
    "Lpp += 2*X1 + 1.5*X2 + X3 <= 20\n",
    "Lpp += 2*X1 + X2 + 1.5*X3 <= 24\n",
    "Lpp += X1 + 2*X2 + 0.5*X3 <= 20"
   ]
  },
  {
   "cell_type": "code",
   "execution_count": 34,
   "id": "ed177a88",
   "metadata": {},
   "outputs": [
    {
     "data": {
      "text/plain": [
       "Model:\n",
       "MAXIMIZE\n",
       "1600*X1 + 1300*X2 + 600*X3 + 0\n",
       "SUBJECT TO\n",
       "_C1: 2 X1 + 1.5 X2 + X3 <= 20\n",
       "\n",
       "_C2: 2 X1 + X2 + 1.5 X3 <= 24\n",
       "\n",
       "_C3: X1 + 2 X2 + 0.5 X3 <= 20\n",
       "\n",
       "VARIABLES\n",
       "X1 Continuous\n",
       "X2 Continuous\n",
       "X3 Continuous"
      ]
     },
     "execution_count": 34,
     "metadata": {},
     "output_type": "execute_result"
    }
   ],
   "source": [
    "Lpp"
   ]
  },
  {
   "cell_type": "markdown",
   "id": "0cfd9dd6",
   "metadata": {},
   "source": [
    "# Solving Problem"
   ]
  },
  {
   "cell_type": "code",
   "execution_count": 36,
   "id": "6369c195",
   "metadata": {},
   "outputs": [
    {
     "data": {
      "text/plain": [
       "1"
      ]
     },
     "execution_count": 36,
     "metadata": {},
     "output_type": "execute_result"
    }
   ],
   "source": [
    "status = Lpp.solve()\n",
    "status"
   ]
  },
  {
   "cell_type": "markdown",
   "id": "48c9befc",
   "metadata": {},
   "source": [
    "# printing values"
   ]
  },
  {
   "cell_type": "code",
   "execution_count": 39,
   "id": "a9c512d6",
   "metadata": {},
   "outputs": [
    {
     "name": "stdout",
     "output_type": "stream",
     "text": [
      "number of X1 models : 4.0\n",
      "number of X2 models : 8.0\n",
      "number of X3 models : 0.0\n"
     ]
    }
   ],
   "source": [
    "print(\"number of X1 models :\",X1.varValue)\n",
    "print(\"number of X2 models :\",X2.varValue)\n",
    "print(\"number of X3 models :\",X3.varValue)"
   ]
  },
  {
   "cell_type": "code",
   "execution_count": 40,
   "id": "71a04950",
   "metadata": {},
   "outputs": [
    {
     "name": "stdout",
     "output_type": "stream",
     "text": [
      "profit :  16800.0\n"
     ]
    }
   ],
   "source": [
    "print(\"profit : \",p.value(Lpp.objective))"
   ]
  },
  {
   "cell_type": "code",
   "execution_count": null,
   "id": "690a4cc0",
   "metadata": {},
   "outputs": [],
   "source": []
  }
 ],
 "metadata": {
  "kernelspec": {
   "display_name": "Python 3 (ipykernel)",
   "language": "python",
   "name": "python3"
  },
  "language_info": {
   "codemirror_mode": {
    "name": "ipython",
    "version": 3
   },
   "file_extension": ".py",
   "mimetype": "text/x-python",
   "name": "python",
   "nbconvert_exporter": "python",
   "pygments_lexer": "ipython3",
   "version": "3.11.5"
  }
 },
 "nbformat": 4,
 "nbformat_minor": 5
}
