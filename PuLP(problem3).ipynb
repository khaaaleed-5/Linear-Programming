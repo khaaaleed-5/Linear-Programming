{
 "cells": [
  {
   "cell_type": "code",
   "execution_count": 3,
   "id": "dd6ed168",
   "metadata": {},
   "outputs": [],
   "source": [
    "import pulp as p"
   ]
  },
  {
   "cell_type": "code",
   "execution_count": 9,
   "id": "9df288cc",
   "metadata": {},
   "outputs": [
    {
     "name": "stdout",
     "output_type": "stream",
     "text": [
      "Current Status:  Not Solved\n",
      "Current Status:  Optimal\n",
      "Per_log = 13.181818\n",
      "per_cake = 12.045455\n",
      "opt = 192.045455\n"
     ]
    }
   ],
   "source": [
    "Problem = p.LpProblem(\"cake \",p.LpMaximize)\n",
    "A = p.LpVariable(\"Per log\",lowBound=0)\n",
    "B = p.LpVariable(\"per cake\",lowBound=0)\n",
    "Problem += 10*A + 5*B\n",
    "Problem += 5*A + 2*B <= 90\n",
    "Problem += 1*A + 10*B <=300\n",
    "Problem += 4*A + 6*B <= 125\n",
    "\n",
    "print(\"Current Status: \", p.LpStatus[Problem.status])\n",
    "\n",
    "Problem.solve()\n",
    "\n",
    "print(\"Current Status: \", p.LpStatus[Problem.status])\n",
    "\n",
    "for i in Problem.variables():\n",
    "    print(i,\"=\",p.value(i))\n",
    "print(\"opt =\",p.value(Problem.objective))"
   ]
  },
  {
   "cell_type": "code",
   "execution_count": null,
   "id": "c099a3b8",
   "metadata": {},
   "outputs": [],
   "source": []
  }
 ],
 "metadata": {
  "kernelspec": {
   "display_name": "Python 3 (ipykernel)",
   "language": "python",
   "name": "python3"
  },
  "language_info": {
   "codemirror_mode": {
    "name": "ipython",
    "version": 3
   },
   "file_extension": ".py",
   "mimetype": "text/x-python",
   "name": "python",
   "nbconvert_exporter": "python",
   "pygments_lexer": "ipython3",
   "version": "3.11.5"
  }
 },
 "nbformat": 4,
 "nbformat_minor": 5
}
